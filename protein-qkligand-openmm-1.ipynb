{
 "cells": [
  {
   "cell_type": "markdown",
   "metadata": {},
   "source": [
    "### Workflow for simulating a protein-ligand complex in water using OpenMM with Open Force Field/AMBER\n",
    "Openmm is a toolkit for high performance molecular simulations. OpenMM is not an application in the traditional sense, with simulations being run using python scripts, done via utilising the application layer - which is just a set of Python libraries.\n",
    "\n",
    "This tutorial demonstrates how to create and run a simple MD simulation of a protein-ligand complex in water, specifically, a potential drug molecule in the binding site of COVID-19's main protease. (The chosen drug molecule is arbitrary, chosen from a set of linked fragment screens which were generated with DeLinker.)[1]\n",
    "\n",
    "In order to do this, both the protein and ligand must be parameterised and protonated."
   ]
  },
  {
   "cell_type": "code",
   "execution_count": 1,
   "metadata": {
    "scrolled": true
   },
   "outputs": [
    {
     "name": "stderr",
     "output_type": "stream",
     "text": [
      "Warning: importing 'simtk.openmm' is deprecated.  Import 'openmm' instead.\n",
      "Warning: Unable to load toolkit 'OpenEye Toolkit'. The Open Force Field Toolkit does not require the OpenEye Toolkits, and can use RDKit/AmberTools instead. However, if you have a valid license for the OpenEye Toolkits, consider installing them for faster performance and additional file format support: https://docs.eyesopen.com/toolkits/python/quickstart-python/linuxosx.html OpenEye offers free Toolkit licenses for academics: https://www.eyesopen.com/academic-licensing\n"
     ]
    }
   ],
   "source": [
    "import time\n",
    "\n",
    "import numpy as np\n",
    "import parmed\n",
    "\n",
    "from pdbfixer import PDBFixer\n",
    "from openff.toolkit.topology import Molecule, Topology\n",
    "from openff.toolkit.typing.engines.smirnoff import ForceField\n",
    "import openmm\n",
    "from openmm import app, unit"
   ]
  },
  {
   "cell_type": "markdown",
   "metadata": {},
   "source": [
    "### Ligand preparation\n",
    "The ligand was generated using DeLinker without hydrogens, so the first step is to add them. \n",
    "\n",
    "Once hydrogens are added, the ligand can be parameterised with OpenForceField. \n",
    "\n",
    "-------------------------\n",
    "\n",
    "First, hydrogens are added using obabel. (! at the beginning of a cell runs the command in bash.) \n",
    "\n",
    "Obabel is a tool that allows interconversion between different file formats.\n",
    "\n",
    ".pdb files lack bond connectivity information, which is needed to parameterise the ligand. The .sdf file format has the information required. "
   ]
  },
  {
   "cell_type": "markdown",
   "metadata": {},
   "source": [
    "Now the protonated ligand files can both be loaded into openmm."
   ]
  },
  {
   "cell_type": "code",
   "execution_count": 2,
   "metadata": {
    "scrolled": true
   },
   "outputs": [],
   "source": [
    "# load with Open Force Field toolkit\n",
    "mol = app.PDBFile('jorgensenh.pdb')"
   ]
  },
  {
   "cell_type": "markdown",
   "metadata": {},
   "source": [
    "### Protein preparation\n",
    "\n",
    "\n",
    "Before the protein can be used in openmm it must first be load and potentially fixed. A tool called PDBFixer will find missing residues, rename nonstandard residues etc."
   ]
  },
  {
   "cell_type": "code",
   "execution_count": 3,
   "metadata": {
    "scrolled": true
   },
   "outputs": [],
   "source": [
    "# fix PDB\n",
    "fixer = PDBFixer('mpro.pdb')\n",
    "fixer.findMissingResidues()\n",
    "fixer.findNonstandardResidues()\n",
    "fixer.findMissingAtoms()\n",
    "\n",
    "fixer.replaceNonstandardResidues()\n",
    "fixer.addMissingAtoms()\n",
    "\n",
    "app.PDBFile.writeFile(fixer.topology, fixer.positions, open('mproh.pdb', 'w'))"
   ]
  },
  {
   "cell_type": "markdown",
   "metadata": {},
   "source": [
    "### Parametrisation and system assembly\n"
   ]
  },
  {
   "cell_type": "markdown",
   "metadata": {},
   "source": [
    "To generate the protein system, a system generator must be used, along with some forcefield settings.\n",
    "\n",
    "A system generator facilitates parameterising both, the ligand using openff and the protein with the AMBER forcefield ('amber99sbildn')."
   ]
  },
  {
   "cell_type": "code",
   "execution_count": 4,
   "metadata": {
    "scrolled": true
   },
   "outputs": [],
   "source": [
    "# forcefield configuration\n",
    "forcefield_kwargs = { 'rigidWater' : True, \n",
    "                      'flexibleConstraints': True, \n",
    "                      'constraints': app.HBonds, \n",
    "                      'hydrogenMass' : 4*unit.amu,\n",
    "                      'removeCMMotion' : True} \n",
    "\n",
    "forcefields = app.ForceField('amber99sbildn.xml', \"jorgensenh.xml\", 'tip3pfb.xml')"
   ]
  },
  {
   "cell_type": "markdown",
   "metadata": {},
   "source": [
    "The next task is to merge the protein and the ligand, and solvate the protein using OpenMM's modeller class."
   ]
  },
  {
   "cell_type": "code",
   "execution_count": 5,
   "metadata": {},
   "outputs": [],
   "source": [
    "# load the protonated protein\n",
    "pdbfile = app.PDBFile('mproh.pdb')\n",
    "modeller = app.Modeller(pdbfile.getTopology(), pdbfile.getPositions())\n",
    "\n",
    "# protonate the protein\n",
    "modeller.addHydrogens()\n",
    "\n",
    "# add the ligand to the system\n",
    "modeller.add(mol.topology, mol.positions)\n",
    "\n",
    "# add the solvent (and box)\n",
    "modeller.addSolvent(forcefields, \n",
    "                    model=\"tip3p\", \n",
    "                    ionicStrength=0*unit.molar, \n",
    "                    neutralize=True, \n",
    "                    padding=1.4)\n",
    "\n",
    "# write a pdb with the solvated system\n",
    "app.PDBFile.writeFile(modeller.topology, modeller.positions, open(\"sys_sol.pdb\", 'w'))"
   ]
  },
  {
   "cell_type": "markdown",
   "metadata": {},
   "source": [
    "Parameterise the system (including the protein, ligand and the waters)"
   ]
  },
  {
   "cell_type": "code",
   "execution_count": 6,
   "metadata": {
    "scrolled": true
   },
   "outputs": [],
   "source": [
    "# parameterize and create a system \n",
    "system = forcefields.createSystem(topology=modeller.topology, **forcefield_kwargs)"
   ]
  },
  {
   "cell_type": "markdown",
   "metadata": {},
   "source": [
    ">TIP: The parameterised system can converted to a ParmEd structure object."
   ]
  },
  {
   "cell_type": "markdown",
   "metadata": {},
   "source": [
    "### Simulating the protein-ligand complex"
   ]
  },
  {
   "cell_type": "markdown",
   "metadata": {},
   "source": [
    "The system can be saved by converting it to an .xml containing all system information/parameters."
   ]
  },
  {
   "cell_type": "code",
   "execution_count": 7,
   "metadata": {
    "scrolled": true
   },
   "outputs": [],
   "source": [
    "xml = openmm.XmlSerializer.serializeSystem(system)\n",
    "with open(\"complex_system.xml\", \"w+\") as out:\n",
    "    out.write(xml)"
   ]
  },
  {
   "cell_type": "markdown",
   "metadata": {},
   "source": [
    "A simulation, which is a combination of a system, integrator (how the equations of motion are advanced) and topology (atom coordinates) can now be created using the system that was just made.\n",
    "\n",
    "The simulation creates a context, which stores the complete state of a simulation and contains information such as the positions and velocities of particles. \n",
    "\n",
    "Parameters such as the temperature of the simulation can be specified."
   ]
  },
  {
   "cell_type": "code",
   "execution_count": 8,
   "metadata": {
    "scrolled": true
   },
   "outputs": [],
   "source": [
    "# propagate the system with Langevin dynamics.\n",
    "time_step = 1*unit.femtoseconds  # simulation timestep\n",
    "temperature = 300*unit.kelvin  # simulation temperature\n",
    "friction = 1/unit.picosecond  # collision rate\n",
    "integrator_min = openmm.LangevinIntegrator(temperature, friction, time_step)\n",
    "\n",
    "# set up an openmm simulation\n",
    "simulation = openmm.app.Simulation(modeller.topology, system, integrator_min)\n",
    "\n",
    "# set the initial positions\n",
    "simulation.context.setPositions(modeller.positions)"
   ]
  },
  {
   "cell_type": "markdown",
   "metadata": {},
   "source": [
    "If the simulation was to be run as is, it would blow up due to extreme forces on inappropriately placed atoms. First the system must be minimised. This minimised system can then be used as a starting point for multiple runs."
   ]
  },
  {
   "cell_type": "code",
   "execution_count": 9,
   "metadata": {
    "scrolled": true
   },
   "outputs": [],
   "source": [
    "simulation.minimizeEnergy()\n",
    "# get state of minimised simulation\n",
    "state = simulation.context.getState(getPositions=True)\n",
    "# get positions of minimised simulation\n",
    "minimised_positions = state.getPositions()"
   ]
  },
  {
   "cell_type": "markdown",
   "metadata": {},
   "source": [
    "After the simulation has been minimized, a 'production run' can be performed. How often the output will be written can be set by variables and appending reporter objects to the simulation.\n",
    "\n",
    "The results of the simulation will be written to trajectory_prod.pdb, which can be loaded into visualisation software e.g. VMD."
   ]
  },
  {
   "cell_type": "code",
   "execution_count": 10,
   "metadata": {
    "scrolled": true
   },
   "outputs": [],
   "source": [
    "#propagate the System with Langevin dynamics.\n",
    "time_step = 1*unit.femtoseconds  # simulation timestep\n",
    "temperature = 300*unit.kelvin  # simulation temperature\n",
    "friction = 1/unit.picosecond  # collision rate\n",
    "integrator_prod = openmm.LangevinIntegrator(temperature, friction, time_step)\n",
    "\n",
    "# length of the simulation.\n",
    "num_steps = 200  # number of integration steps to run\n",
    "\n",
    "# Logging options.\n",
    "trj_freq = 50  # how often to save a trajectory frame\n",
    "data_freq = 50  # how often to output the simulation statistics\n",
    "\n",
    "# set up an OpenMM simulation using minimised structure positions\n",
    "simulation = openmm.app.Simulation(modeller.topology, system, integrator_prod)\n",
    "\n",
    "#set the initial positions.\n",
    "simulation.context.setPositions(minimised_positions)\n",
    "\n",
    "#randomize the velocities from a Boltzmann distribution at a given temperature.\n",
    "simulation.context.setVelocitiesToTemperature(temperature)\n",
    "\n",
    "#configure the information in the output files.\n",
    "pdb_reporter = openmm.app.PDBReporter('trajectory_prod.pdb', trj_freq)\n",
    "state_data_reporter = openmm.app.StateDataReporter('data_prod.csv', data_freq, step=True,\n",
    "                                                   potentialEnergy=True, temperature=True,\n",
    "                                                   density=True)\n",
    "simulation.reporters.append(pdb_reporter)\n",
    "simulation.reporters.append(state_data_reporter)"
   ]
  },
  {
   "cell_type": "markdown",
   "metadata": {},
   "source": [
    "Finally, run the simulation."
   ]
  },
  {
   "cell_type": "code",
   "execution_count": 11,
   "metadata": {
    "scrolled": true
   },
   "outputs": [
    {
     "name": "stdout",
     "output_type": "stream",
     "text": [
      "Starting simulation\n",
      "Finished in 18.54 seconds\n"
     ]
    }
   ],
   "source": [
    "print(\"Starting simulation\")\n",
    "start = time.process_time()\n",
    "\n",
    "#run the simulation\n",
    "simulation.step(num_steps)\n",
    "\n",
    "end = time.process_time()\n",
    "print(\"Finished in %.2f seconds\" % (end-start))"
   ]
  },
  {
   "cell_type": "markdown",
   "metadata": {},
   "source": [
    "[1] - https://pubs.acs.org/doi/10.1021/acs.jcim.9b01120"
   ]
  }
 ],
 "metadata": {
  "kernelspec": {
   "display_name": "Python 3",
   "language": "python",
   "name": "python3"
  },
  "language_info": {
   "codemirror_mode": {
    "name": "ipython",
    "version": 3
   },
   "file_extension": ".py",
   "mimetype": "text/x-python",
   "name": "python",
   "nbconvert_exporter": "python",
   "pygments_lexer": "ipython3",
   "version": "3.9.7"
  }
 },
 "nbformat": 4,
 "nbformat_minor": 4
}
