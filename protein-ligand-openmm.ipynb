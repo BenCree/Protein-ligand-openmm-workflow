{
 "cells": [
  {
   "cell_type": "markdown",
   "metadata": {},
   "source": [
    "### Workflow for simulating a protein-ligand complex in water using OpenMM with Open Force Field/AMBER\n",
    "Openmm is a toolkit for high performance molecular simulations. OpenMM is not an application in the traditional sense, with simulations being run using python scripts, done via utilising the application layer - which is just a set of Python libraries.\n",
    "\n",
    "This tutorial demonstrates how to create and run a simple MD simulation of a protein-ligand complex in water, specifically, a potential drug molecule in the binding site of COVID-19's main protease. (The chosen drug molecule is arbitrary, chosen from a set of linked fragment screens which were generated with DeLinker.)[1]\n",
    "\n",
    "In order to do this, both the protein and ligand must be parameterised, protonated and combined."
   ]
  },
  {
   "cell_type": "code",
   "execution_count": 2,
   "metadata": {
    "scrolled": true
   },
   "outputs": [],
   "source": [
    "from rdkit import Chem\n",
    "from rdkit.Chem import AllChem\n",
    "from rdkit.Chem import Draw\n",
    "from rdkit.Chem.Draw import IPythonConsole\n",
    "from rdkit.Chem.Draw import MolDrawing, DrawingOptions\n",
    "from rdkit.Chem import MolStandardize"
   ]
  },
  {
   "cell_type": "code",
   "execution_count": 3,
   "metadata": {
    "scrolled": true
   },
   "outputs": [
    {
     "name": "stderr",
     "output_type": "stream",
     "text": [
      "/home/cree/anaconda3/envs/openff/lib/python3.7/site-packages/ipykernel_launcher.py:1: DeprecationWarning: Importing this package as `import openforcefield.XXX` and `from openforcefield import XXX` was marked for deprecation in version `0.8.3`. From version `0.9.0` onwards this package will need to be imported as `import openff.toolkit.XXX` and `from openff.toolkit import XXX`. See the `0.8.3` release notes for more information.\n",
      "  \"\"\"Entry point for launching an IPython kernel.\n",
      "Warning: Unable to load toolkit 'OpenEye Toolkit'. The Open Force Field Toolkit does not require the OpenEye Toolkits, and can use RDKit/AmberTools instead. However, if you have a valid license for the OpenEye Toolkits, consider installing them for faster performance and additional file format support: https://docs.eyesopen.com/toolkits/python/quickstart-python/linuxosx.html OpenEye offers free Toolkit licenses for academics: https://www.eyesopen.com/academic-licensing\n"
     ]
    }
   ],
   "source": [
    "# syntax edit 1 - no longer openforcefield.topology\n",
    "from openff.toolkit import ForceField, Molecule, Topology\n",
    "from openff.toolkit.topology import Molecule\n",
    "# syntax edit 2\n",
    "from openmmforcefields.generators import SystemGenerator\n",
    "from simtk import openmm, unit\n",
    "from simtk.openmm import app\n",
    "from simtk.openmm.app import PDBFile\n",
    "# syntax edit 3\n",
    "from openmm.app.modeller import Modeller \n",
    "from simtk.openmm.app import NoCutoff, HBonds\n",
   ]
  },
  {
   "cell_type": "code",
   "execution_count": 4,
   "metadata": {
    "scrolled": true
   },
   "outputs": [],
   "source": [
    "from pdbfixer import PDBFixer\n",
    "import pdb4amber\n",
    "import parmed"
   ]
  },
  {
   "cell_type": "markdown",
   "metadata": {},
   "source": [
    "### Ligand preparation\n",
    "The ligand was generated using DeLinker without hydrogens, so the first step is to add them. \n",
    "\n",
    "Once hydrogens are added, the ligand can be parameterised with OpenForceField. \n",
    "\n",
    "Once it's parameterised, a ParmEd structure object can be created which allows the ligand to be combined with a similar protein structure object, which can then be used to create a system for an openmm simulation.\n",
    "\n",
    "------------------------------------------------------------------------------------------------------------------"
   ]
  },
  {
   "cell_type": "markdown",
   "metadata": {},
   "source": [
    "First, hydrogens are added using obabel. (! at the beginning of a cell runs the command in bash.) \n",
    "\n",
    "Obabel is a tool that allows interconversion between different file formats."
   ]
  },
  {
   "cell_type": "code",
   "execution_count": 5,
   "metadata": {
    "scrolled": true
   },
   "outputs": [
    {
     "name": "stdout",
     "output_type": "stream",
     "text": [
      "1 molecule converted\n"
     ]
    }
   ],
   "source": [
    "# syntax edit 4 - -h replaced by -p 7 (to take into account the protonatuon states when H is added)
\n",
    "#adding hydrogens to ligand (ligand.pdb is delinker output)\n",
    "!obabel ligand.pdb -ipdb -opdb -O ligand_h.pdb -p 7"
   ]
  },
  {
   "cell_type": "markdown",
   "metadata": {},
   "source": [
    ".pdb files lack bond connectivity information, which is needed to parameterise the ligand. The .sdf file format has the information required. \n",
    "\n",
    "The .pdb file can be readily converted into .sdf using obabel."
   ]
  },
  {
   "cell_type": "code",
   "execution_count": 6,
   "metadata": {
    "scrolled": true
   },
   "outputs": [
    {
     "name": "stdout",
     "output_type": "stream",
     "text": [
      "1 molecule converted\n"
     ]
    }
   ],
   "source": [
    "#convert to sdf\n",
    "!obabel ligand_h.pdb -ipdb -osdf -O ligand_h.sdf"
   ]
  },
  {
   "cell_type": "markdown",
   "metadata": {},
   "source": [
    "Now the protonated ligand files can both be loaded into openmm.\n",
    "\n",
    "(Warnings are just because each atom does not have a unique name and can be ignored.)"
   ]
  },
  {
   "cell_type": "code",
   "execution_count": 7,
   "metadata": {
    "scrolled": true
   },
   "outputs": [
    {
     "name": "stderr",
     "output_type": "stream",
     "text": [
      "/home/cree/anaconda3/envs/openff/lib/python3.7/site-packages/simtk/openmm/app/internal/pdbstructure.py:537: UserWarning: WARNING: duplicate atom (HETATM   35  H   UNK     0      15.798  -5.475  19.565  1.00  0.00           H  , HETATM   34  H   UNK     0      16.517  -6.551  20.738  1.00  0.00           H  )\n",
      "  warnings.warn(\"WARNING: duplicate atom (%s, %s)\" % (atom, old_atom._pdb_string(old_atom.serial_number, atom.alternate_location_indicator)))\n",
      "/home/cree/anaconda3/envs/openff/lib/python3.7/site-packages/simtk/openmm/app/internal/pdbstructure.py:537: UserWarning: WARNING: duplicate atom (HETATM   36  H   UNK     0      14.971  -6.944  20.025  1.00  0.00           H  , HETATM   35  H   UNK     0      15.798  -5.475  19.565  1.00  0.00           H  )\n",
      "  warnings.warn(\"WARNING: duplicate atom (%s, %s)\" % (atom, old_atom._pdb_string(old_atom.serial_number, atom.alternate_location_indicator)))\n",
      "/home/cree/anaconda3/envs/openff/lib/python3.7/site-packages/simtk/openmm/app/internal/pdbstructure.py:537: UserWarning: WARNING: duplicate atom (HETATM   37  H   UNK     0      15.519  -4.607  21.840  1.00  0.00           H  , HETATM   36  H   UNK     0      14.971  -6.944  20.025  1.00  0.00           H  )\n",
      "  warnings.warn(\"WARNING: duplicate atom (%s, %s)\" % (atom, old_atom._pdb_string(old_atom.serial_number, atom.alternate_location_indicator)))\n",
      "/home/cree/anaconda3/envs/openff/lib/python3.7/site-packages/simtk/openmm/app/internal/pdbstructure.py:537: UserWarning: WARNING: duplicate atom (HETATM   38  H   UNK     0      14.681  -6.087  22.287  1.00  0.00           H  , HETATM   37  H   UNK     0      15.519  -4.607  21.840  1.00  0.00           H  )\n",
      "  warnings.warn(\"WARNING: duplicate atom (%s, %s)\" % (atom, old_atom._pdb_string(old_atom.serial_number, atom.alternate_location_indicator)))\n",
      "/home/cree/anaconda3/envs/openff/lib/python3.7/site-packages/simtk/openmm/app/internal/pdbstructure.py:537: UserWarning: WARNING: duplicate atom (HETATM   39  H   UNK     0      12.902  -5.605  20.740  1.00  0.00           H  , HETATM   38  H   UNK     0      14.681  -6.087  22.287  1.00  0.00           H  )\n",
      "  warnings.warn(\"WARNING: duplicate atom (%s, %s)\" % (atom, old_atom._pdb_string(old_atom.serial_number, atom.alternate_location_indicator)))\n",
      "/home/cree/anaconda3/envs/openff/lib/python3.7/site-packages/simtk/openmm/app/internal/pdbstructure.py:537: UserWarning: WARNING: duplicate atom (HETATM   40  H   UNK     0      13.782  -4.166  20.177  1.00  0.00           H  , HETATM   39  H   UNK     0      12.902  -5.605  20.740  1.00  0.00           H  )\n",
      "  warnings.warn(\"WARNING: duplicate atom (%s, %s)\" % (atom, old_atom._pdb_string(old_atom.serial_number, atom.alternate_location_indicator)))\n",
      "/home/cree/anaconda3/envs/openff/lib/python3.7/site-packages/simtk/openmm/app/internal/pdbstructure.py:537: UserWarning: WARNING: duplicate atom (HETATM   41  H   UNK     0      11.919  -3.589  21.642  1.00  0.00           H  , HETATM   40  H   UNK     0      13.782  -4.166  20.177  1.00  0.00           H  )\n",
      "  warnings.warn(\"WARNING: duplicate atom (%s, %s)\" % (atom, old_atom._pdb_string(old_atom.serial_number, atom.alternate_location_indicator)))\n",
      "/home/cree/anaconda3/envs/openff/lib/python3.7/site-packages/simtk/openmm/app/internal/pdbstructure.py:537: UserWarning: WARNING: duplicate atom (HETATM   42  H   UNK     0      14.311  -2.550  21.672  1.00  0.00           H  , HETATM   41  H   UNK     0      11.919  -3.589  21.642  1.00  0.00           H  )\n",
      "  warnings.warn(\"WARNING: duplicate atom (%s, %s)\" % (atom, old_atom._pdb_string(old_atom.serial_number, atom.alternate_location_indicator)))\n",
      "/home/cree/anaconda3/envs/openff/lib/python3.7/site-packages/simtk/openmm/app/internal/pdbstructure.py:537: UserWarning: WARNING: duplicate atom (HETATM   43  H   UNK     0      12.190  -1.404  21.704  1.00  0.00           H  , HETATM   42  H   UNK     0      14.311  -2.550  21.672  1.00  0.00           H  )\n",
      "  warnings.warn(\"WARNING: duplicate atom (%s, %s)\" % (atom, old_atom._pdb_string(old_atom.serial_number, atom.alternate_location_indicator)))\n",
      "/home/cree/anaconda3/envs/openff/lib/python3.7/site-packages/simtk/openmm/app/internal/pdbstructure.py:537: UserWarning: WARNING: duplicate atom (HETATM   44  H   UNK     0      14.276  -0.144  21.834  1.00  0.00           H  , HETATM   43  H   UNK     0      12.190  -1.404  21.704  1.00  0.00           H  )\n",
      "  warnings.warn(\"WARNING: duplicate atom (%s, %s)\" % (atom, old_atom._pdb_string(old_atom.serial_number, atom.alternate_location_indicator)))\n",
      "/home/cree/anaconda3/envs/openff/lib/python3.7/site-packages/simtk/openmm/app/internal/pdbstructure.py:537: UserWarning: WARNING: duplicate atom (HETATM   45  H   UNK     0      14.361  -0.450  23.570  1.00  0.00           H  , HETATM   44  H   UNK     0      14.276  -0.144  21.834  1.00  0.00           H  )\n",
      "  warnings.warn(\"WARNING: duplicate atom (%s, %s)\" % (atom, old_atom._pdb_string(old_atom.serial_number, atom.alternate_location_indicator)))\n",
      "/home/cree/anaconda3/envs/openff/lib/python3.7/site-packages/simtk/openmm/app/internal/pdbstructure.py:537: UserWarning: WARNING: duplicate atom (HETATM   46  H   UNK     0      14.421   2.265  22.242  1.00  0.00           H  , HETATM   45  H   UNK     0      14.361  -0.450  23.570  1.00  0.00           H  )\n",
      "  warnings.warn(\"WARNING: duplicate atom (%s, %s)\" % (atom, old_atom._pdb_string(old_atom.serial_number, atom.alternate_location_indicator)))\n",
      "/home/cree/anaconda3/envs/openff/lib/python3.7/site-packages/simtk/openmm/app/internal/pdbstructure.py:537: UserWarning: WARNING: duplicate atom (HETATM   47  H   UNK     0      13.190   4.310  22.649  1.00  0.00           H  , HETATM   46  H   UNK     0      14.421   2.265  22.242  1.00  0.00           H  )\n",
      "  warnings.warn(\"WARNING: duplicate atom (%s, %s)\" % (atom, old_atom._pdb_string(old_atom.serial_number, atom.alternate_location_indicator)))\n",
      "/home/cree/anaconda3/envs/openff/lib/python3.7/site-packages/simtk/openmm/app/internal/pdbstructure.py:537: UserWarning: WARNING: duplicate atom (HETATM   48  H   UNK     0      12.376   6.249  23.928  1.00  0.00           H  , HETATM   47  H   UNK     0      13.190   4.310  22.649  1.00  0.00           H  )\n",
      "  warnings.warn(\"WARNING: duplicate atom (%s, %s)\" % (atom, old_atom._pdb_string(old_atom.serial_number, atom.alternate_location_indicator)))\n",
      "/home/cree/anaconda3/envs/openff/lib/python3.7/site-packages/simtk/openmm/app/internal/pdbstructure.py:537: UserWarning: WARNING: duplicate atom (HETATM   49  H   UNK     0      10.976   7.067  23.547  1.00  0.00           H  , HETATM   48  H   UNK     0      12.376   6.249  23.928  1.00  0.00           H  )\n",
      "  warnings.warn(\"WARNING: duplicate atom (%s, %s)\" % (atom, old_atom._pdb_string(old_atom.serial_number, atom.alternate_location_indicator)))\n",
      "/home/cree/anaconda3/envs/openff/lib/python3.7/site-packages/simtk/openmm/app/internal/pdbstructure.py:537: UserWarning: WARNING: duplicate atom (HETATM   50  H   UNK     0      10.019   2.084  24.283  1.00  0.00           H  , HETATM   49  H   UNK     0      10.976   7.067  23.547  1.00  0.00           H  )\n",
      "  warnings.warn(\"WARNING: duplicate atom (%s, %s)\" % (atom, old_atom._pdb_string(old_atom.serial_number, atom.alternate_location_indicator)))\n",
      "/home/cree/anaconda3/envs/openff/lib/python3.7/site-packages/simtk/openmm/app/internal/pdbstructure.py:537: UserWarning: WARNING: duplicate atom (HETATM   51  H   UNK     0       9.402   0.510  24.825  1.00  0.00           H  , HETATM   50  H   UNK     0      10.019   2.084  24.283  1.00  0.00           H  )\n",
      "  warnings.warn(\"WARNING: duplicate atom (%s, %s)\" % (atom, old_atom._pdb_string(old_atom.serial_number, atom.alternate_location_indicator)))\n",
      "/home/cree/anaconda3/envs/openff/lib/python3.7/site-packages/simtk/openmm/app/internal/pdbstructure.py:537: UserWarning: WARNING: duplicate atom (HETATM   52  H   UNK     0      10.058  -0.819  25.750  1.00  0.00           H  , HETATM   51  H   UNK     0       9.402   0.510  24.825  1.00  0.00           H  )\n",
      "  warnings.warn(\"WARNING: duplicate atom (%s, %s)\" % (atom, old_atom._pdb_string(old_atom.serial_number, atom.alternate_location_indicator)))\n",
      "/home/cree/anaconda3/envs/openff/lib/python3.7/site-packages/simtk/openmm/app/internal/pdbstructure.py:537: UserWarning: WARNING: duplicate atom (HETATM   53  H   UNK     0       9.183  -1.132  24.270  1.00  0.00           H  , HETATM   52  H   UNK     0      10.058  -0.819  25.750  1.00  0.00           H  )\n",
      "  warnings.warn(\"WARNING: duplicate atom (%s, %s)\" % (atom, old_atom._pdb_string(old_atom.serial_number, atom.alternate_location_indicator)))\n",
      "/home/cree/anaconda3/envs/openff/lib/python3.7/site-packages/simtk/openmm/app/internal/pdbstructure.py:537: UserWarning: WARNING: duplicate atom (HETATM   54  H   UNK     0      12.480  -1.781  24.676  1.00  0.00           H  , HETATM   53  H   UNK     0       9.183  -1.132  24.270  1.00  0.00           H  )\n",
      "  warnings.warn(\"WARNING: duplicate atom (%s, %s)\" % (atom, old_atom._pdb_string(old_atom.serial_number, atom.alternate_location_indicator)))\n",
      "/home/cree/anaconda3/envs/openff/lib/python3.7/site-packages/simtk/openmm/app/internal/pdbstructure.py:537: UserWarning: WARNING: duplicate atom (HETATM   55  H   UNK     0      11.195  -2.409  23.647  1.00  0.00           H  , HETATM   54  H   UNK     0      12.480  -1.781  24.676  1.00  0.00           H  )\n",
      "  warnings.warn(\"WARNING: duplicate atom (%s, %s)\" % (atom, old_atom._pdb_string(old_atom.serial_number, atom.alternate_location_indicator)))\n",
      "/home/cree/anaconda3/envs/openff/lib/python3.7/site-packages/simtk/openmm/app/internal/pdbstructure.py:537: UserWarning: WARNING: duplicate atom (HETATM   56  H   UNK     0      10.918  -5.943  22.648  1.00  0.00           H  , HETATM   55  H   UNK     0      11.195  -2.409  23.647  1.00  0.00           H  )\n",
      "  warnings.warn(\"WARNING: duplicate atom (%s, %s)\" % (atom, old_atom._pdb_string(old_atom.serial_number, atom.alternate_location_indicator)))\n",
      "/home/cree/anaconda3/envs/openff/lib/python3.7/site-packages/simtk/openmm/app/internal/pdbstructure.py:537: UserWarning: WARNING: duplicate atom (HETATM   57  H   UNK     0      10.693  -7.446  26.101  1.00  0.00           H  , HETATM   56  H   UNK     0      10.918  -5.943  22.648  1.00  0.00           H  )\n",
      "  warnings.warn(\"WARNING: duplicate atom (%s, %s)\" % (atom, old_atom._pdb_string(old_atom.serial_number, atom.alternate_location_indicator)))\n",
      "/home/cree/anaconda3/envs/openff/lib/python3.7/site-packages/simtk/openmm/app/internal/pdbstructure.py:537: UserWarning: WARNING: duplicate atom (HETATM   58  H   UNK     0       9.182  -7.009  23.561  1.00  0.00           H  , HETATM   57  H   UNK     0      10.693  -7.446  26.101  1.00  0.00           H  )\n",
      "  warnings.warn(\"WARNING: duplicate atom (%s, %s)\" % (atom, old_atom._pdb_string(old_atom.serial_number, atom.alternate_location_indicator)))\n",
      "/home/cree/anaconda3/envs/openff/lib/python3.7/site-packages/simtk/openmm/app/internal/pdbstructure.py:537: UserWarning: WARNING: duplicate atom (HETATM   59  H   UNK     0       8.622  -6.801  25.172  1.00  0.00           H  , HETATM   58  H   UNK     0       9.182  -7.009  23.561  1.00  0.00           H  )\n",
      "  warnings.warn(\"WARNING: duplicate atom (%s, %s)\" % (atom, old_atom._pdb_string(old_atom.serial_number, atom.alternate_location_indicator)))\n",
      "/home/cree/anaconda3/envs/openff/lib/python3.7/site-packages/simtk/openmm/app/internal/pdbstructure.py:537: UserWarning: WARNING: duplicate atom (HETATM   60  H   UNK     0       8.188  -9.067  23.613  1.00  0.00           H  , HETATM   59  H   UNK     0       8.622  -6.801  25.172  1.00  0.00           H  )\n",
      "  warnings.warn(\"WARNING: duplicate atom (%s, %s)\" % (atom, old_atom._pdb_string(old_atom.serial_number, atom.alternate_location_indicator)))\n",
      "/home/cree/anaconda3/envs/openff/lib/python3.7/site-packages/simtk/openmm/app/internal/pdbstructure.py:537: UserWarning: WARNING: duplicate atom (HETATM   61  H   UNK     0       8.025  -9.040  25.337  1.00  0.00           H  , HETATM   60  H   UNK     0       8.188  -9.067  23.613  1.00  0.00           H  )\n",
      "  warnings.warn(\"WARNING: duplicate atom (%s, %s)\" % (atom, old_atom._pdb_string(old_atom.serial_number, atom.alternate_location_indicator)))\n",
      "/home/cree/anaconda3/envs/openff/lib/python3.7/site-packages/simtk/openmm/app/internal/pdbstructure.py:537: UserWarning: WARNING: duplicate atom (HETATM   62  H   UNK     0       9.934 -10.500  23.848  1.00  0.00           H  , HETATM   61  H   UNK     0       8.025  -9.040  25.337  1.00  0.00           H  )\n",
      "  warnings.warn(\"WARNING: duplicate atom (%s, %s)\" % (atom, old_atom._pdb_string(old_atom.serial_number, atom.alternate_location_indicator)))\n",
      "/home/cree/anaconda3/envs/openff/lib/python3.7/site-packages/simtk/openmm/app/internal/pdbstructure.py:537: UserWarning: WARNING: duplicate atom (HETATM   63  H   UNK     0       9.913 -10.332  25.568  1.00  0.00           H  , HETATM   62  H   UNK     0       9.934 -10.500  23.848  1.00  0.00           H  )\n",
      "  warnings.warn(\"WARNING: duplicate atom (%s, %s)\" % (atom, old_atom._pdb_string(old_atom.serial_number, atom.alternate_location_indicator)))\n",
      "/home/cree/anaconda3/envs/openff/lib/python3.7/site-packages/simtk/openmm/app/internal/pdbstructure.py:537: UserWarning: WARNING: duplicate atom (HETATM   64  H   UNK     0      11.982  -9.227  25.164  1.00  0.00           H  , HETATM   63  H   UNK     0       9.913 -10.332  25.568  1.00  0.00           H  )\n",
      "  warnings.warn(\"WARNING: duplicate atom (%s, %s)\" % (atom, old_atom._pdb_string(old_atom.serial_number, atom.alternate_location_indicator)))\n",
      "/home/cree/anaconda3/envs/openff/lib/python3.7/site-packages/simtk/openmm/app/internal/pdbstructure.py:537: UserWarning: WARNING: duplicate atom (HETATM   65  H   UNK     0      13.709  -9.337  23.701  1.00  0.00           H  , HETATM   64  H   UNK     0      11.982  -9.227  25.164  1.00  0.00           H  )\n",
      "  warnings.warn(\"WARNING: duplicate atom (%s, %s)\" % (atom, old_atom._pdb_string(old_atom.serial_number, atom.alternate_location_indicator)))\n",
      "/home/cree/anaconda3/envs/openff/lib/python3.7/site-packages/simtk/openmm/app/internal/pdbstructure.py:537: UserWarning: WARNING: duplicate atom (HETATM   66  H   UNK     0      13.485  -9.124  22.024  1.00  0.00           H  , HETATM   65  H   UNK     0      13.709  -9.337  23.701  1.00  0.00           H  )\n",
      "  warnings.warn(\"WARNING: duplicate atom (%s, %s)\" % (atom, old_atom._pdb_string(old_atom.serial_number, atom.alternate_location_indicator)))\n",
      "/home/cree/anaconda3/envs/openff/lib/python3.7/site-packages/simtk/openmm/app/internal/pdbstructure.py:537: UserWarning: WARNING: duplicate atom (HETATM   67  H   UNK     0      12.713  -6.231  26.490  1.00  0.00           H  , HETATM   66  H   UNK     0      13.485  -9.124  22.024  1.00  0.00           H  )\n",
      "  warnings.warn(\"WARNING: duplicate atom (%s, %s)\" % (atom, old_atom._pdb_string(old_atom.serial_number, atom.alternate_location_indicator)))\n"
     ]
    }
   ],
   "source": [
    "#create pdb object\n",
    "pdbfile = PDBFile('./ligand_h.pdb')\n",
    "#create molecule object\n",
    "mol = Molecule.from_file('./ligand_h.sdf')"
   ]
  },
  {
   "cell_type": "markdown",
   "metadata": {},
   "source": [
    "There are three main components to OpenMM: System, Simulation, and Context.\n",
    "\n",
    "System is a collection of interacting particles and it defines the mass of each particle, specifies distance constraints and contains a list of force objects that define the interactions. This is the first class to be created. (A force object contains anything that affects the systems behaviour e.g. forces, thermostats, barostats, etc.)\n",
    "\n",
    "The ligand can now be parameterised by creating a system object using openff."
   ]
  },
  {
   "cell_type": "code",
   "execution_count": 8,
   "metadata": {
    "scrolled": true
   },
   "outputs": [],
   "source": [
    "# Create the Open Force Field Topology from an OpenMM Topology object.\n",
    "omm_topology = pdbfile.topology\n",
    "# syntax edit 5 - ligand obj added , allow undefined added, .to_topology()applied to ligand
\n"
    "ligand = Molecule.from_file('./ligand_h.sdf', allow_undefined_stereo=True)\n",
    "off_topology = = ligand.to_topology()\n",
    "openmm_topology = off_topology.to_openmm()\n",
    "\n",
    "# Load the OpenFF \"Parsley\" force field.\n",
    "forcefield = OFFForceField('openff-1.0.0.offxml')\n",
    "\n",
    "# Parametrize the topology and create an OpenMM System.\n",
    "system = forcefield.create_openmm_system(off_topology)"
   ]
  },
  {
   "cell_type": "markdown",
   "metadata": {},
   "source": [
    "A structure object can now be created, which is used to combine the ligand with other structures, in this case, the protein.\n",
    "\n",
    "The Structure class utilised by the ParmEd package makes it easy to quickly and safely manipulate a chemical system, its underlying topology, and force field parameters describing its potential energy function. \n",
    "\n",
    "It is used in this workflow to combine the protein (parameterised with AMBER) and ligand (paramterised with openff) into one system that can be simulated with openmm."
   ]
  },
  {
   "cell_type": "code",
   "execution_count": 9,
   "metadata": {
    "scrolled": true
   },
   "outputs": [],
   "source": [
    "omm_topology = pdbfile.getTopology()\n",
    "positions = pdbfile.getPositions()\n",
    "# Convert OpenMM System into a ParmEd Structure.\n",
    "ligand_structure = parmed.openmm.load_topology(omm_topology,\n",
    "                                                system,\n",
    "                                                xyz=positions)"
   ]
  },
  {
   "cell_type": "markdown",
   "metadata": {},
   "source": [
    "### Protein preparation\n",
    "\n",
    "\n",
    "Before the protein can be used in openmm it must first be checked, and if necessary, fixed. Two tools will be used for this step.\n",
    "\n",
    "First, a tool called PDBFixer will find missing residues, rename nonstandard residues etc, and then pdb4amber will then choose alternate residues and add hydrogens (and making sure protonation occurs in the right place).\n",
    "\n",
    "A summary of the changes made by pdb4amber to the protein can be found in 'pdb4amber.log'.\n",
    "\n",
    "--------------------------------------------------------------------------------------------------------------------------"
   ]
  },
  {
   "cell_type": "code",
   "execution_count": 10,
   "metadata": {
    "scrolled": true
   },
   "outputs": [],
   "source": [
    "#fix PDB\n",
    "fixer = PDBFixer('./mpro.pdb')\n",
    "fixer.findMissingResidues()\n",
    "fixer.findNonstandardResidues()\n",
    "fixer.replaceNonstandardResidues()\n",
    "fixer.removeHeterogens(True)\n",
    "fixer.findMissingAtoms()\n",
    "fixer.addMissingAtoms()\n",
    "PDBFile.writeFile(fixer.topology, fixer.positions, open('mpro_nosolvent.pdb', 'w'))"
   ]
  },
  {
   "cell_type": "code",
   "execution_count": 11,
   "metadata": {
    "scrolled": true
   },
   "outputs": [],
   "source": [
    "#more PDB fixing + protonation\n",
    "pdb4amber.run(arg_pdbout='mproh.pdb', arg_pdbin='mpro_nosolvent.pdb', arg_reduce=True, arg_logfile='pdb4amber.log')\n",
    "!tail -n 20 pdb4amber.log"
   ]
  },
  {
   "cell_type": "markdown",
   "metadata": {},
   "source": [
    "To generate the protein system, a system generator must be used, along with some forcefield constraints.\n",
    "\n",
    "A system generator facilitates getting parameters on a ligand using openff whilst using an AMBER forcefield for the protein, allowing the combining of the ParmEd structures."
   ]
  },
  {
   "cell_type": "code",
   "execution_count": 14,
   "metadata": {
    "scrolled": true
   },
   "outputs": [],
   "source": [
    "#make the system generator, load forcefields\n",
    "forcefield_kwargs = { 'constraints' : app.HBonds, 'rigidWater' : True, 'removeCMMotion' : False, 'hydrogenMass' : 4*unit.amu }\n",
    "\n",
    "#system generator used to create system objects\n",
    "system_gen = SystemGenerator(forcefields=['amber99sbildn.xml', 'tip3pfb.xml'], \n",
    "                             small_molecule_forcefield=\"openff-1.3.0.offxml\", \n",
    "                             forcefield_kwargs=forcefield_kwargs,\n",
    "                            molecules=[mol,])"
   ]
  },
  {
   "cell_type": "markdown",
   "metadata": {},
   "source": [
    "The next task is to solvate the protein using OpenMM's modeller class, which has various tools for editing molecular models.\n",
    "\n",
    "First a modeller object must be created."
   ]
  },
  {
   "cell_type": "code",
   "execution_count": 12,
   "metadata": {
    "scrolled": true
   },
   "outputs": [],
   "source": [
    "#make the modeller\n",
    "pdbfile = PDBFile('mproh.pdb')\n",
    "top = pdbfile.getTopology()\n",
    "pos = pdbfile.getPositions()\n",
    "modeller = app.Modeller(top, pos)"
   ]
  },
  {
   "cell_type": "markdown",
   "metadata": {},
   "source": [
    "The protein can be solvated by calling the .addSolvent function."
   ]
  },
  {
   "cell_type": "code",
   "execution_count": 15,
   "metadata": {
    "scrolled": true
   },
   "outputs": [],
   "source": [
    "#now add water\n",
    "modeller.addSolvent(system_gen.forcefield, model=\"tip3p\", padding=1, ionicStrength=0*unit.molar, neutralize=False)\n",
    "top = modeller.topology\n",
    "pos = modeller.positions\n",
    "\n",
    "#write a pdb file of solvated protein\n",
    "with open(\"mpro_h_solvent.pdb\", 'w') as outfile:\n",
    "    app.PDBFile.writeFile(modeller.topology, modeller.positions, outfile)"
   ]
  },
  {
   "cell_type": "markdown",
   "metadata": {},
   "source": [
    "The fixed, solvated and protonated protein must be parameterised (using AMBER) before it can be used in OpenMM.\n",
    "\n",
    "For parameterisation, the 'amber99sbildn' forcefield will be used."
   ]
  },
  {
   "cell_type": "code",
   "execution_count": 16,
   "metadata": {
    "scrolled": true
   },
   "outputs": [],
   "source": [
    "#parameterize the protein and create a system \n",
    "system = system_gen.create_system(topology=modeller.topology)"
   ]
  },
  {
   "cell_type": "markdown",
   "metadata": {},
   "source": [
    "The parameterised protein system can now be used to create a ParmEd structure object."
   ]
  },
  {
   "cell_type": "code",
   "execution_count": 17,
   "metadata": {
    "scrolled": true
   },
   "outputs": [],
   "source": [
    "#convert the protein system into a ParmEd structure\n",
    "protein_structure = parmed.openmm.load_topology(top,\n",
    "                                           system,\n",
    "                                           xyz=pos)"
   ]
  },
  {
   "cell_type": "code",
   "execution_count": 18,
   "metadata": {
    "scrolled": true
   },
   "outputs": [],
   "source": [
    "#write structure to pdb file\n",
    "PDBFile.writeFile(protein_structure.topology, \n",
    "                  protein_structure.positions, \n",
    "                  open('protein_structure.pdb', 'w'))\n",
    "pdbfile = PDBFile('protein_structure1.pdb')"
   ]
  },
  {
   "cell_type": "markdown",
   "metadata": {},
   "source": [
    "### Combining the protein and ligand"
   ]
  },
  {
   "cell_type": "markdown",
   "metadata": {},
   "source": [
    "(If you already have a protein-ligand structure from another notebook, you can load it using magic commands.) e.g. %store -r complex_structure"
   ]
  },
  {
   "cell_type": "markdown",
   "metadata": {},
   "source": [
    "Now both the protein and ligand structures can be combined into a single structure, which can be used to create an openmm simulation of the protein-ligand complex (in water)."
   ]
  },
  {
   "cell_type": "code",
   "execution_count": 19,
   "metadata": {
    "scrolled": true
   },
   "outputs": [],
   "source": [
    "#adding the structures from protein.ipynb and ligand.ipynb\n",
    "complex_structure = protein_structure + ligand_structure\n",
    "#writing new structure to a .pdb file\n",
    "complex_structure.write_pdb('./complex_system.pdb')"
   ]
  },
  {
   "cell_type": "markdown",
   "metadata": {},
   "source": [
    "### Simulating the protein-ligand complex"
   ]
  },
  {
   "cell_type": "markdown",
   "metadata": {},
   "source": [
    "Now an openmm system can be generated (from the previously defined system generator) from the protein-ligand structure."
   ]
  },
  {
   "cell_type": "code",
   "execution_count": 21,
   "metadata": {
    "scrolled": true
   },
   "outputs": [],
   "source": [
    "#convert the structure to an openmm system\n",
    "complex_system = system_gen.create_system(topology=complex_structure.topology)"
   ]
  },
  {
   "cell_type": "markdown",
   "metadata": {},
   "source": [
    "A simulation, which is a combination of a system, integrator (how the equations of motion are advanced) and topology (atom coordinates) can now be created using the system that was just made.\n",
    "\n",
    "The simulation creates a context, which stores the complete state of a simulation and contains information such as the positions and velocities of particles. Initially positions are randomised.\n",
    "\n",
    "Parameters such as the temperature of the simulation can be specified."
   ]
  },
  {
   "cell_type": "code",
   "execution_count": 24,
   "metadata": {
    "scrolled": true
   },
   "outputs": [],
   "source": [
    "#propagate the System with Langevin dynamics.\n",
    "time_step = 1*unit.femtoseconds  # simulation timestep\n",
    "temperature = 300*unit.kelvin  # simulation temperature\n",
    "friction = 1/unit.picosecond  # collision rate\n",
    "integrator_min = openmm.LangevinIntegrator(temperature, friction, time_step)\n",
    "\n",
    "#set up an openmm simulation\n",
    "simulation = openmm.app.Simulation(complex_structure.topology, complex_system, integrator_min)\n",
    "\n",
    "#set the initial positions\n",
    "positions = complex_structure.positions\n",
    "simulation.context.setPositions(positions)"
   ]
  },
  {
   "cell_type": "markdown",
   "metadata": {},
   "source": [
    "If the simulation was to be run as is, it would blow up due to extreme forces on inappropriately placed atoms. First the system must be minimised."
   ]
  },
  {
   "cell_type": "code",
   "execution_count": 25,
   "metadata": {
    "scrolled": true
   },
   "outputs": [
    {
     "ename": "KeyboardInterrupt",
     "evalue": "",
     "output_type": "error",
     "traceback": [
      "\u001b[0;31m---------------------------------------------------------------------------\u001b[0m",
      "\u001b[0;31mKeyboardInterrupt\u001b[0m                         Traceback (most recent call last)",
      "\u001b[0;32m<ipython-input-25-11d65f898bf4>\u001b[0m in \u001b[0;36m<module>\u001b[0;34m\u001b[0m\n\u001b[0;32m----> 1\u001b[0;31m \u001b[0msimulation\u001b[0m\u001b[0;34m.\u001b[0m\u001b[0mminimizeEnergy\u001b[0m\u001b[0;34m(\u001b[0m\u001b[0;34m)\u001b[0m\u001b[0;34m\u001b[0m\u001b[0;34m\u001b[0m\u001b[0m\n\u001b[0m\u001b[1;32m      2\u001b[0m \u001b[0msimulation\u001b[0m\u001b[0;34m.\u001b[0m\u001b[0msaveState\u001b[0m\u001b[0;34m(\u001b[0m\u001b[0;34m'./minimized.state'\u001b[0m\u001b[0;34m)\u001b[0m\u001b[0;34m\u001b[0m\u001b[0;34m\u001b[0m\u001b[0m\n",
      "\u001b[0;32m~/anaconda3/envs/openff/lib/python3.7/site-packages/simtk/openmm/app/simulation.py\u001b[0m in \u001b[0;36mminimizeEnergy\u001b[0;34m(self, tolerance, maxIterations)\u001b[0m\n\u001b[1;32m    126\u001b[0m             \u001b[0mto\u001b[0m \u001b[0mhow\u001b[0m \u001b[0mmany\u001b[0m \u001b[0miterations\u001b[0m \u001b[0mit\u001b[0m \u001b[0mtakes\u001b[0m\u001b[0;34m.\u001b[0m\u001b[0;34m\u001b[0m\u001b[0;34m\u001b[0m\u001b[0m\n\u001b[1;32m    127\u001b[0m         \"\"\"\n\u001b[0;32m--> 128\u001b[0;31m         \u001b[0mmm\u001b[0m\u001b[0;34m.\u001b[0m\u001b[0mLocalEnergyMinimizer\u001b[0m\u001b[0;34m.\u001b[0m\u001b[0mminimize\u001b[0m\u001b[0;34m(\u001b[0m\u001b[0mself\u001b[0m\u001b[0;34m.\u001b[0m\u001b[0mcontext\u001b[0m\u001b[0;34m,\u001b[0m \u001b[0mtolerance\u001b[0m\u001b[0;34m,\u001b[0m \u001b[0mmaxIterations\u001b[0m\u001b[0;34m)\u001b[0m\u001b[0;34m\u001b[0m\u001b[0;34m\u001b[0m\u001b[0m\n\u001b[0m\u001b[1;32m    129\u001b[0m \u001b[0;34m\u001b[0m\u001b[0m\n\u001b[1;32m    130\u001b[0m     \u001b[0;32mdef\u001b[0m \u001b[0mstep\u001b[0m\u001b[0;34m(\u001b[0m\u001b[0mself\u001b[0m\u001b[0;34m,\u001b[0m \u001b[0msteps\u001b[0m\u001b[0;34m)\u001b[0m\u001b[0;34m:\u001b[0m\u001b[0;34m\u001b[0m\u001b[0;34m\u001b[0m\u001b[0m\n",
      "\u001b[0;32m~/anaconda3/envs/openff/lib/python3.7/site-packages/simtk/openmm/openmm.py\u001b[0m in \u001b[0;36mminimize\u001b[0;34m(context, tolerance, maxIterations)\u001b[0m\n\u001b[1;32m   5644\u001b[0m             \u001b[0mthe\u001b[0m \u001b[0mmaximum\u001b[0m \u001b[0mnumber\u001b[0m \u001b[0mof\u001b[0m \u001b[0miterations\u001b[0m \u001b[0mto\u001b[0m \u001b[0mperform\u001b[0m\u001b[0;34m.\u001b[0m \u001b[0mIf\u001b[0m \u001b[0mthis\u001b[0m \u001b[0;32mis\u001b[0m \u001b[0;36m0\u001b[0m\u001b[0;34m,\u001b[0m \u001b[0mminimation\u001b[0m \u001b[0;32mis\u001b[0m \u001b[0mcontinued\u001b[0m \u001b[0muntil\u001b[0m \u001b[0mthe\u001b[0m \u001b[0mresults\u001b[0m \u001b[0mconverge\u001b[0m \u001b[0mwithout\u001b[0m \u001b[0mregard\u001b[0m \u001b[0mto\u001b[0m \u001b[0mhow\u001b[0m \u001b[0mmany\u001b[0m \u001b[0miterations\u001b[0m \u001b[0mit\u001b[0m \u001b[0mtakes\u001b[0m\u001b[0;34m.\u001b[0m \u001b[0mThe\u001b[0m \u001b[0mdefault\u001b[0m \u001b[0mvalue\u001b[0m \u001b[0;32mis\u001b[0m \u001b[0;36m0.\u001b[0m\u001b[0;34m\u001b[0m\u001b[0;34m\u001b[0m\u001b[0m\n\u001b[1;32m   5645\u001b[0m         \"\"\"\n\u001b[0;32m-> 5646\u001b[0;31m         \u001b[0;32mreturn\u001b[0m \u001b[0m_openmm\u001b[0m\u001b[0;34m.\u001b[0m\u001b[0mLocalEnergyMinimizer_minimize\u001b[0m\u001b[0;34m(\u001b[0m\u001b[0mcontext\u001b[0m\u001b[0;34m,\u001b[0m \u001b[0mtolerance\u001b[0m\u001b[0;34m,\u001b[0m \u001b[0mmaxIterations\u001b[0m\u001b[0;34m)\u001b[0m\u001b[0;34m\u001b[0m\u001b[0;34m\u001b[0m\u001b[0m\n\u001b[0m\u001b[1;32m   5647\u001b[0m     \u001b[0m__swig_destroy__\u001b[0m \u001b[0;34m=\u001b[0m \u001b[0m_openmm\u001b[0m\u001b[0;34m.\u001b[0m\u001b[0mdelete_LocalEnergyMinimizer\u001b[0m\u001b[0;34m\u001b[0m\u001b[0;34m\u001b[0m\u001b[0m\n\u001b[1;32m   5648\u001b[0m \u001b[0;34m\u001b[0m\u001b[0m\n",
      "\u001b[0;31mKeyboardInterrupt\u001b[0m: "
     ]
    }
   ],
   "source": [
    "simulation.minimizeEnergy()\n",
    "simulation.saveState('./minimized.state')"
   ]
  },
  {
   "cell_type": "markdown",
   "metadata": {},
   "source": [
    "This minimised system can be written to a .pdb file (and can be used as a starting point for multiple runs)."
   ]
  },
  {
   "cell_type": "code",
   "execution_count": 27,
   "metadata": {
    "scrolled": true
   },
   "outputs": [
    {
     "name": "stderr",
     "output_type": "stream",
     "text": [
      "/home/cree/anaconda3/envs/openff/lib/python3.7/site-packages/simtk/openmm/app/internal/pdbstructure.py:537: UserWarning: WARNING: duplicate atom (HETATM55751  H   UNK C   1      16.429  -3.892  20.548  1.00  0.00           H  , HETATM55750  H   UNK C   1      16.747  -5.242  21.647  1.00  0.00           H  )\n",
      "  warnings.warn(\"WARNING: duplicate atom (%s, %s)\" % (atom, old_atom._pdb_string(old_atom.serial_number, atom.alternate_location_indicator)))\n",
      "/home/cree/anaconda3/envs/openff/lib/python3.7/site-packages/simtk/openmm/app/internal/pdbstructure.py:537: UserWarning: WARNING: duplicate atom (HETATM55752  H   UNK C   1      15.326  -5.295  20.585  1.00  0.00           H  , HETATM55751  H   UNK C   1      16.429  -3.892  20.548  1.00  0.00           H  )\n",
      "  warnings.warn(\"WARNING: duplicate atom (%s, %s)\" % (atom, old_atom._pdb_string(old_atom.serial_number, atom.alternate_location_indicator)))\n",
      "/home/cree/anaconda3/envs/openff/lib/python3.7/site-packages/simtk/openmm/app/internal/pdbstructure.py:537: UserWarning: WARNING: duplicate atom (HETATM55753  H   UNK C   1      15.782  -3.368  22.933  1.00  0.00           H  , HETATM55752  H   UNK C   1      15.326  -5.295  20.585  1.00  0.00           H  )\n",
      "  warnings.warn(\"WARNING: duplicate atom (%s, %s)\" % (atom, old_atom._pdb_string(old_atom.serial_number, atom.alternate_location_indicator)))\n",
      "/home/cree/anaconda3/envs/openff/lib/python3.7/site-packages/simtk/openmm/app/internal/pdbstructure.py:537: UserWarning: WARNING: duplicate atom (HETATM55754  H   UNK C   1      14.699  -4.744  22.923  1.00  0.00           H  , HETATM55753  H   UNK C   1      15.782  -3.368  22.933  1.00  0.00           H  )\n",
      "  warnings.warn(\"WARNING: duplicate atom (%s, %s)\" % (atom, old_atom._pdb_string(old_atom.serial_number, atom.alternate_location_indicator)))\n",
      "/home/cree/anaconda3/envs/openff/lib/python3.7/site-packages/simtk/openmm/app/internal/pdbstructure.py:537: UserWarning: WARNING: duplicate atom (HETATM55755  H   UNK C   1      13.255  -3.732  21.298  1.00  0.00           H  , HETATM55754  H   UNK C   1      14.699  -4.744  22.923  1.00  0.00           H  )\n",
      "  warnings.warn(\"WARNING: duplicate atom (%s, %s)\" % (atom, old_atom._pdb_string(old_atom.serial_number, atom.alternate_location_indicator)))\n",
      "/home/cree/anaconda3/envs/openff/lib/python3.7/site-packages/simtk/openmm/app/internal/pdbstructure.py:537: UserWarning: WARNING: duplicate atom (HETATM55756  H   UNK C   1      14.403  -2.465  20.899  1.00  0.00           H  , HETATM55755  H   UNK C   1      13.255  -3.732  21.298  1.00  0.00           H  )\n",
      "  warnings.warn(\"WARNING: duplicate atom (%s, %s)\" % (atom, old_atom._pdb_string(old_atom.serial_number, atom.alternate_location_indicator)))\n",
      "/home/cree/anaconda3/envs/openff/lib/python3.7/site-packages/simtk/openmm/app/internal/pdbstructure.py:537: UserWarning: WARNING: duplicate atom (HETATM55757  H   UNK C   1      12.335  -1.991  22.375  1.00  0.00           H  , HETATM55756  H   UNK C   1      14.403  -2.465  20.899  1.00  0.00           H  )\n",
      "  warnings.warn(\"WARNING: duplicate atom (%s, %s)\" % (atom, old_atom._pdb_string(old_atom.serial_number, atom.alternate_location_indicator)))\n",
      "/home/cree/anaconda3/envs/openff/lib/python3.7/site-packages/simtk/openmm/app/internal/pdbstructure.py:537: UserWarning: WARNING: duplicate atom (HETATM55758  H   UNK C   1      14.529  -0.682  22.001  1.00  0.00           H  , HETATM55757  H   UNK C   1      12.335  -1.991  22.375  1.00  0.00           H  )\n",
      "  warnings.warn(\"WARNING: duplicate atom (%s, %s)\" % (atom, old_atom._pdb_string(old_atom.serial_number, atom.alternate_location_indicator)))\n",
      "/home/cree/anaconda3/envs/openff/lib/python3.7/site-packages/simtk/openmm/app/internal/pdbstructure.py:537: UserWarning: WARNING: duplicate atom (HETATM55759  H   UNK C   1      12.413   0.345  22.316  1.00  0.00           H  , HETATM55758  H   UNK C   1      14.529  -0.682  22.001  1.00  0.00           H  )\n",
      "  warnings.warn(\"WARNING: duplicate atom (%s, %s)\" % (atom, old_atom._pdb_string(old_atom.serial_number, atom.alternate_location_indicator)))\n",
      "/home/cree/anaconda3/envs/openff/lib/python3.7/site-packages/simtk/openmm/app/internal/pdbstructure.py:537: UserWarning: WARNING: duplicate atom (HETATM55760  H   UNK C   1      14.464   1.723  22.258  1.00  0.00           H  , HETATM55759  H   UNK C   1      12.413   0.345  22.316  1.00  0.00           H  )\n",
      "  warnings.warn(\"WARNING: duplicate atom (%s, %s)\" % (atom, old_atom._pdb_string(old_atom.serial_number, atom.alternate_location_indicator)))\n",
      "/home/cree/anaconda3/envs/openff/lib/python3.7/site-packages/simtk/openmm/app/internal/pdbstructure.py:537: UserWarning: WARNING: duplicate atom (HETATM55761  H   UNK C   1      14.667   1.508  24.000  1.00  0.00           H  , HETATM55760  H   UNK C   1      14.464   1.723  22.258  1.00  0.00           H  )\n",
      "  warnings.warn(\"WARNING: duplicate atom (%s, %s)\" % (atom, old_atom._pdb_string(old_atom.serial_number, atom.alternate_location_indicator)))\n",
      "/home/cree/anaconda3/envs/openff/lib/python3.7/site-packages/simtk/openmm/app/internal/pdbstructure.py:537: UserWarning: WARNING: duplicate atom (HETATM55762  H   UNK C   1      14.328   4.188  22.537  1.00  0.00           H  , HETATM55761  H   UNK C   1      14.667   1.508  24.000  1.00  0.00           H  )\n",
      "  warnings.warn(\"WARNING: duplicate atom (%s, %s)\" % (atom, old_atom._pdb_string(old_atom.serial_number, atom.alternate_location_indicator)))\n",
      "/home/cree/anaconda3/envs/openff/lib/python3.7/site-packages/simtk/openmm/app/internal/pdbstructure.py:537: UserWarning: WARNING: duplicate atom (HETATM55763  H   UNK C   1      12.795   6.106  22.834  1.00  0.00           H  , HETATM55762  H   UNK C   1      14.328   4.188  22.537  1.00  0.00           H  )\n",
      "  warnings.warn(\"WARNING: duplicate atom (%s, %s)\" % (atom, old_atom._pdb_string(old_atom.serial_number, atom.alternate_location_indicator)))\n",
      "/home/cree/anaconda3/envs/openff/lib/python3.7/site-packages/simtk/openmm/app/internal/pdbstructure.py:537: UserWarning: WARNING: duplicate atom (HETATM55764  H   UNK C   1      10.196   6.009  26.112  1.00  0.00           H  , HETATM55763  H   UNK C   1      12.795   6.106  22.834  1.00  0.00           H  )\n",
      "  warnings.warn(\"WARNING: duplicate atom (%s, %s)\" % (atom, old_atom._pdb_string(old_atom.serial_number, atom.alternate_location_indicator)))\n",
      "/home/cree/anaconda3/envs/openff/lib/python3.7/site-packages/simtk/openmm/app/internal/pdbstructure.py:537: UserWarning: WARNING: duplicate atom (HETATM55765  H   UNK C   1       9.955   7.605  25.722  1.00  0.00           H  , HETATM55764  H   UNK C   1      10.196   6.009  26.112  1.00  0.00           H  )\n",
      "  warnings.warn(\"WARNING: duplicate atom (%s, %s)\" % (atom, old_atom._pdb_string(old_atom.serial_number, atom.alternate_location_indicator)))\n",
      "/home/cree/anaconda3/envs/openff/lib/python3.7/site-packages/simtk/openmm/app/internal/pdbstructure.py:537: UserWarning: WARNING: duplicate atom (HETATM55766  H   UNK C   1       9.918   3.538  24.697  1.00  0.00           H  , HETATM55765  H   UNK C   1       9.955   7.605  25.722  1.00  0.00           H  )\n",
      "  warnings.warn(\"WARNING: duplicate atom (%s, %s)\" % (atom, old_atom._pdb_string(old_atom.serial_number, atom.alternate_location_indicator)))\n",
      "/home/cree/anaconda3/envs/openff/lib/python3.7/site-packages/simtk/openmm/app/internal/pdbstructure.py:537: UserWarning: WARNING: duplicate atom (HETATM55767  H   UNK C   1       9.327   1.335  23.840  1.00  0.00           H  , HETATM55766  H   UNK C   1       9.918   3.538  24.697  1.00  0.00           H  )\n",
      "  warnings.warn(\"WARNING: duplicate atom (%s, %s)\" % (atom, old_atom._pdb_string(old_atom.serial_number, atom.alternate_location_indicator)))\n",
      "/home/cree/anaconda3/envs/openff/lib/python3.7/site-packages/simtk/openmm/app/internal/pdbstructure.py:537: UserWarning: WARNING: duplicate atom (HETATM55768  H   UNK C   1       9.542   1.414  25.609  1.00  0.00           H  , HETATM55767  H   UNK C   1       9.327   1.335  23.840  1.00  0.00           H  )\n",
      "  warnings.warn(\"WARNING: duplicate atom (%s, %s)\" % (atom, old_atom._pdb_string(old_atom.serial_number, atom.alternate_location_indicator)))\n",
      "/home/cree/anaconda3/envs/openff/lib/python3.7/site-packages/simtk/openmm/app/internal/pdbstructure.py:537: UserWarning: WARNING: duplicate atom (HETATM55769  H   UNK C   1       9.755  -0.119  24.746  1.00  0.00           H  , HETATM55768  H   UNK C   1       9.542   1.414  25.609  1.00  0.00           H  )\n",
      "  warnings.warn(\"WARNING: duplicate atom (%s, %s)\" % (atom, old_atom._pdb_string(old_atom.serial_number, atom.alternate_location_indicator)))\n",
      "/home/cree/anaconda3/envs/openff/lib/python3.7/site-packages/simtk/openmm/app/internal/pdbstructure.py:537: UserWarning: WARNING: duplicate atom (HETATM55770  H   UNK C   1      12.980   0.204  25.303  1.00  0.00           H  , HETATM55769  H   UNK C   1       9.755  -0.119  24.746  1.00  0.00           H  )\n",
      "  warnings.warn(\"WARNING: duplicate atom (%s, %s)\" % (atom, old_atom._pdb_string(old_atom.serial_number, atom.alternate_location_indicator)))\n",
      "/home/cree/anaconda3/envs/openff/lib/python3.7/site-packages/simtk/openmm/app/internal/pdbstructure.py:537: UserWarning: WARNING: duplicate atom (HETATM55771  H   UNK C   1      11.771  -0.779  24.467  1.00  0.00           H  , HETATM55770  H   UNK C   1      12.980   0.204  25.303  1.00  0.00           H  )\n",
      "  warnings.warn(\"WARNING: duplicate atom (%s, %s)\" % (atom, old_atom._pdb_string(old_atom.serial_number, atom.alternate_location_indicator)))\n",
      "/home/cree/anaconda3/envs/openff/lib/python3.7/site-packages/simtk/openmm/app/internal/pdbstructure.py:537: UserWarning: WARNING: duplicate atom (HETATM55772  H   UNK C   1      11.334  -3.824  23.872  1.00  0.00           H  , HETATM55771  H   UNK C   1      11.771  -0.779  24.467  1.00  0.00           H  )\n",
      "  warnings.warn(\"WARNING: duplicate atom (%s, %s)\" % (atom, old_atom._pdb_string(old_atom.serial_number, atom.alternate_location_indicator)))\n",
      "/home/cree/anaconda3/envs/openff/lib/python3.7/site-packages/simtk/openmm/app/internal/pdbstructure.py:537: UserWarning: WARNING: duplicate atom (HETATM55773  H   UNK C   1      10.755  -4.102  27.387  1.00  0.00           H  , HETATM55772  H   UNK C   1      11.334  -3.824  23.872  1.00  0.00           H  )\n",
      "  warnings.warn(\"WARNING: duplicate atom (%s, %s)\" % (atom, old_atom._pdb_string(old_atom.serial_number, atom.alternate_location_indicator)))\n",
      "/home/cree/anaconda3/envs/openff/lib/python3.7/site-packages/simtk/openmm/app/internal/pdbstructure.py:537: UserWarning: WARNING: duplicate atom (HETATM55774  H   UNK C   1      10.472  -5.705  24.847  1.00  0.00           H  , HETATM55773  H   UNK C   1      10.755  -4.102  27.387  1.00  0.00           H  )\n",
      "  warnings.warn(\"WARNING: duplicate atom (%s, %s)\" % (atom, old_atom._pdb_string(old_atom.serial_number, atom.alternate_location_indicator)))\n",
      "/home/cree/anaconda3/envs/openff/lib/python3.7/site-packages/simtk/openmm/app/internal/pdbstructure.py:537: UserWarning: WARNING: duplicate atom (HETATM55775  H   UNK C   1       9.329  -4.591  25.621  1.00  0.00           H  , HETATM55774  H   UNK C   1      10.472  -5.705  24.847  1.00  0.00           H  )\n",
      "  warnings.warn(\"WARNING: duplicate atom (%s, %s)\" % (atom, old_atom._pdb_string(old_atom.serial_number, atom.alternate_location_indicator)))\n",
      "/home/cree/anaconda3/envs/openff/lib/python3.7/site-packages/simtk/openmm/app/internal/pdbstructure.py:537: UserWarning: WARNING: duplicate atom (HETATM55776  H   UNK C   1       9.561  -7.442  25.955  1.00  0.00           H  , HETATM55775  H   UNK C   1       9.329  -4.591  25.621  1.00  0.00           H  )\n",
      "  warnings.warn(\"WARNING: duplicate atom (%s, %s)\" % (atom, old_atom._pdb_string(old_atom.serial_number, atom.alternate_location_indicator)))\n",
      "/home/cree/anaconda3/envs/openff/lib/python3.7/site-packages/simtk/openmm/app/internal/pdbstructure.py:537: UserWarning: WARNING: duplicate atom (HETATM55777  H   UNK C   1       8.474  -6.369  26.862  1.00  0.00           H  , HETATM55776  H   UNK C   1       9.561  -7.442  25.955  1.00  0.00           H  )\n",
      "  warnings.warn(\"WARNING: duplicate atom (%s, %s)\" % (atom, old_atom._pdb_string(old_atom.serial_number, atom.alternate_location_indicator)))\n",
      "/home/cree/anaconda3/envs/openff/lib/python3.7/site-packages/simtk/openmm/app/internal/pdbstructure.py:537: UserWarning: WARNING: duplicate atom (HETATM55778  H   UNK C   1      10.519  -7.758  28.071  1.00  0.00           H  , HETATM55777  H   UNK C   1       8.474  -6.369  26.862  1.00  0.00           H  )\n",
      "  warnings.warn(\"WARNING: duplicate atom (%s, %s)\" % (atom, old_atom._pdb_string(old_atom.serial_number, atom.alternate_location_indicator)))\n",
      "/home/cree/anaconda3/envs/openff/lib/python3.7/site-packages/simtk/openmm/app/internal/pdbstructure.py:537: UserWarning: WARNING: duplicate atom (HETATM55779  H   UNK C   1       9.904  -6.205  28.654  1.00  0.00           H  , HETATM55778  H   UNK C   1      10.519  -7.758  28.071  1.00  0.00           H  )\n",
      "  warnings.warn(\"WARNING: duplicate atom (%s, %s)\" % (atom, old_atom._pdb_string(old_atom.serial_number, atom.alternate_location_indicator)))\n",
      "/home/cree/anaconda3/envs/openff/lib/python3.7/site-packages/simtk/openmm/app/internal/pdbstructure.py:537: UserWarning: WARNING: duplicate atom (HETATM55780  H   UNK C   1      12.192  -5.641  28.424  1.00  0.00           H  , HETATM55779  H   UNK C   1       9.904  -6.205  28.654  1.00  0.00           H  )\n",
      "  warnings.warn(\"WARNING: duplicate atom (%s, %s)\" % (atom, old_atom._pdb_string(old_atom.serial_number, atom.alternate_location_indicator)))\n",
      "/home/cree/anaconda3/envs/openff/lib/python3.7/site-packages/simtk/openmm/app/internal/pdbstructure.py:537: UserWarning: WARNING: duplicate atom (HETATM55781  H   UNK C   1      14.152  -5.487  26.395  1.00  0.00           H  , HETATM55780  H   UNK C   1      12.192  -5.641  28.424  1.00  0.00           H  )\n",
      "  warnings.warn(\"WARNING: duplicate atom (%s, %s)\" % (atom, old_atom._pdb_string(old_atom.serial_number, atom.alternate_location_indicator)))\n",
      "/home/cree/anaconda3/envs/openff/lib/python3.7/site-packages/simtk/openmm/app/internal/pdbstructure.py:537: UserWarning: WARNING: duplicate atom (HETATM55782  H   UNK C   1      14.587  -7.137  25.964  1.00  0.00           H  , HETATM55781  H   UNK C   1      14.152  -5.487  26.395  1.00  0.00           H  )\n",
      "  warnings.warn(\"WARNING: duplicate atom (%s, %s)\" % (atom, old_atom._pdb_string(old_atom.serial_number, atom.alternate_location_indicator)))\n",
      "/home/cree/anaconda3/envs/openff/lib/python3.7/site-packages/simtk/openmm/app/internal/pdbstructure.py:537: UserWarning: WARNING: duplicate atom (HETATM55783  H   UNK C   1      13.652  -3.668  27.566  1.00  0.00           H  , HETATM55782  H   UNK C   1      14.587  -7.137  25.964  1.00  0.00           H  )\n",
      "  warnings.warn(\"WARNING: duplicate atom (%s, %s)\" % (atom, old_atom._pdb_string(old_atom.serial_number, atom.alternate_location_indicator)))\n"
     ]
    }
   ],
   "source": [
    "#get state of minimised simulation\n",
    "state = simulation.context.getState(getPositions=True)\n",
    "#get positions of minimised simulation\n",
    "positions = state.getPositions()\n",
    "#write minimised structure to .pdb\n",
    "PDBFile.writeFile(complex_structure.topology, positions, open(\"minimised_complex.pdb\", \"w\"))\n",
    "pdbfile_min = PDBFile('./mminimised_complex.pdb')"
   ]
  },
  {
   "cell_type": "markdown",
   "metadata": {},
   "source": [
    "A new minimised structure object can be created and used as the starting point for our simulation."
   ]
  },
  {
   "cell_type": "code",
   "execution_count": 28,
   "metadata": {
    "scrolled": true
   },
   "outputs": [],
   "source": [
    "#load minimised_complex pdb as structure\n",
    "# syntax edit 6 - use pdfile_min for .topology istead of any other object\n",
    "minimised_structure = parmed.openmm.load_topology(pdbfile_min.topology, complex_system,xyz=positions)"
   ]
  },
  {
   "cell_type": "markdown",
   "metadata": {},
   "source": [
    "After the simulation has been minimized, a 'production run' can be performed. How often the output will be written can be set by variables and appending reporter objects to the simulation.\n",
    "\n",
    "The results of the simulation will be written to trajectory_prod.pdb, which can be loaded into visualisation software e.g. VMD."
   ]
  },
  {
   "cell_type": "code",
   "execution_count": 30,
   "metadata": {
    "scrolled": true
   },
   "outputs": [],
   "source": [
    "#propagate the System with Langevin dynamics.\n",
    "time_step = 1*unit.femtoseconds  # simulation timestep\n",
    "temperature = 300*unit.kelvin  # simulation temperature\n",
    "friction = 1/unit.picosecond  # collision rate\n",
    "integrator_prod = openmm.LangevinIntegrator(temperature, friction, time_step)\n",
    "\n",
    "#length of the simulation.\n",
    "num_steps = 1000  # number of integration steps to run\n",
    "\n",
    "# Logging options.\n",
    "trj_freq = 1  # number of steps per written trajectory frame\n",
    "data_freq = 1  # number of steps per written simulation statistics\n",
    "\n",
    "#set up an OpenMM simulation using minimised structure\n",
    "simulation = openmm.app.Simulation(minimised_structure.topology, complex_system, integrator_prod)\n",
    "\n",
    "#set the initial positions.\n",
    "positions = pdbfile.getPositions() \n",
    "simulation.context.setPositions(positions)\n",
    "\n",
    "#randomize the velocities from a Boltzmann distribution at a given temperature.\n",
    "simulation.context.setVelocitiesToTemperature(temperature)\n",
    "\n",
    "#configure the information in the output files.\n",
    "pdb_reporter = openmm.app.PDBReporter('trajectory_prod.pdb', trj_freq)\n",
    "state_data_reporter = openmm.app.StateDataReporter('data_prod.csv', data_freq, step=True,\n",
    "                                                   potentialEnergy=True, temperature=True,\n",
    "                                                   density=True)\n",
    "simulation.reporters.append(pdb_reporter)\n",
    "simulation.reporters.append(state_data_reporter)"
   ]
  },
  {
   "cell_type": "markdown",
   "metadata": {},
   "source": [
    "Finally, run the simulation."
   ]
  },
  {
   "cell_type": "code",
   "execution_count": null,
   "metadata": {
    "scrolled": true
   },
   "outputs": [],
   "source": [
    "import time\n",
    "\n",
    "print(\"Starting simulation\")\n",
    "start = time.process_time()\n",
    "\n",
    "#run the simulation\n",
    "simulation.step(num_steps)\n",
    "\n",
    "end = time.process_time()\n",
    "print(\"Elapsed time %.2f seconds\" % (end-start))\n",
    "print(\"Done!\")"
   ]
  },
  {
   "cell_type": "markdown",
   "metadata": {},
   "source": [
    "[1] - https://pubs.acs.org/doi/10.1021/acs.jcim.9b01120"
   ]
  }
 ],
 "metadata": {
  "kernelspec": {
   "display_name": "openff",
   "language": "python",
   "name": "openff"
  },
  "language_info": {
   "codemirror_mode": {
    "name": "ipython",
    "version": 3
   },
   "file_extension": ".py",
   "mimetype": "text/x-python",
   "name": "python",
   "nbconvert_exporter": "python",
   "pygments_lexer": "ipython3",
   "version": "3.7.9"
  }
 },
 "nbformat": 4,
 "nbformat_minor": 4
}
